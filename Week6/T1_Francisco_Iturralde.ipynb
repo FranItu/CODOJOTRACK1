{
  "nbformat": 4,
  "nbformat_minor": 0,
  "metadata": {
    "colab": {
      "name": "T1_Francisco_Iturralde.ipynb",
      "provenance": [],
      "collapsed_sections": [
        "3GItrD6dpqYp",
        "pc24l2OJKpBQ"
      ],
      "authorship_tag": "ABX9TyMHtuXnQr+SLKUCMii6aLTZ",
      "include_colab_link": true
    },
    "kernelspec": {
      "name": "python3",
      "display_name": "Python 3"
    },
    "language_info": {
      "name": "python"
    }
  },
  "cells": [
    {
      "cell_type": "markdown",
      "metadata": {
        "id": "view-in-github",
        "colab_type": "text"
      },
      "source": [
        "<a href=\"https://colab.research.google.com/github/FranItu/CODOJOTRACK1/blob/main/Week6/T1_Francisco_Iturralde.ipynb\" target=\"_parent\"><img src=\"https://colab.research.google.com/assets/colab-badge.svg\" alt=\"Open In Colab\"/></a>"
      ]
    },
    {
      "cell_type": "markdown",
      "source": [
        "#SEMANA 5 TAREA 3"
      ],
      "metadata": {
        "id": "B9guKtsLKkPL"
      }
    },
    {
      "cell_type": "markdown",
      "source": [
        "##Header"
      ],
      "metadata": {
        "id": "3GItrD6dpqYp"
      }
    },
    {
      "cell_type": "code",
      "source": [
        "from google.colab import drive\n",
        "drive.mount('/content/drive')"
      ],
      "metadata": {
        "id": "1a0mxLfFNNOR",
        "colab": {
          "base_uri": "https://localhost:8080/"
        },
        "outputId": "0914ee3a-adea-4ac8-eb09-4ac45c58ae05"
      },
      "execution_count": 1,
      "outputs": [
        {
          "output_type": "stream",
          "name": "stdout",
          "text": [
            "Mounted at /content/drive\n"
          ]
        }
      ]
    },
    {
      "cell_type": "code",
      "source": [
        "import pandas as pd\n",
        "import numpy as np\n",
        "import matplotlib.pyplot as plt\n",
        "import seaborn as sns\n",
        "from sklearn.linear_model import LinearRegression\n",
        "from sklearn.preprocessing import StandardScaler\n",
        "from sklearn.model_selection import train_test_split\n",
        "from sklearn.neighbors import KNeighborsClassifier\n",
        "import sklearn.metrics as skmt"
      ],
      "metadata": {
        "id": "vHy9hF_2NN8K"
      },
      "execution_count": 2,
      "outputs": []
    },
    {
      "cell_type": "code",
      "source": [
        "#Informacion de la base de datos\n",
        "'''\n",
        "Sex\t\tnominal\t\t\tM, F, and I (infant)\n",
        "Length\t\tcontinuous\tmm\tLongest shell measurement\n",
        "Diameter\tcontinuous\tmm\tperpendicular to length\n",
        "Height\t\tcontinuous\tmm\twith meat in shell\n",
        "Whole weight\tcontinuous\tgrams\twhole abalone\n",
        "Shucked weight\tcontinuous\tgrams\tweight of meat\n",
        "Viscera weight\tcontinuous\tgrams\tgut weight (after bleeding)\n",
        "Shell weight\tcontinuous\tgrams\tafter being dried\n",
        "Rings\n",
        "'''"
      ],
      "metadata": {
        "id": "h-xvjqvGMcgr"
      },
      "execution_count": null,
      "outputs": []
    },
    {
      "cell_type": "code",
      "source": [
        "#header\n",
        "hed = ['Sex','Length','Diameter','Height', 'Whole weight', 'Shucked weight','Viscera weight','Shell weight', 'Rings']"
      ],
      "metadata": {
        "id": "JrRLodlmObZS"
      },
      "execution_count": 10,
      "outputs": []
    },
    {
      "cell_type": "code",
      "source": [
        "df = pd.read_csv('/content/drive/My Drive/Coding_Dojo/Bases_De_Datos/abalone.csv', header = None)\n",
        "df.head()"
      ],
      "metadata": {
        "colab": {
          "base_uri": "https://localhost:8080/",
          "height": 206
        },
        "id": "P_aN_KwlNw25",
        "outputId": "52edc07d-642b-436e-a93c-e0d4a8472004"
      },
      "execution_count": 41,
      "outputs": [
        {
          "output_type": "execute_result",
          "data": {
            "text/html": [
              "\n",
              "  <div id=\"df-51922adc-4bba-475f-95b3-1935f6f9f948\">\n",
              "    <div class=\"colab-df-container\">\n",
              "      <div>\n",
              "<style scoped>\n",
              "    .dataframe tbody tr th:only-of-type {\n",
              "        vertical-align: middle;\n",
              "    }\n",
              "\n",
              "    .dataframe tbody tr th {\n",
              "        vertical-align: top;\n",
              "    }\n",
              "\n",
              "    .dataframe thead th {\n",
              "        text-align: right;\n",
              "    }\n",
              "</style>\n",
              "<table border=\"1\" class=\"dataframe\">\n",
              "  <thead>\n",
              "    <tr style=\"text-align: right;\">\n",
              "      <th></th>\n",
              "      <th>0</th>\n",
              "      <th>1</th>\n",
              "      <th>2</th>\n",
              "      <th>3</th>\n",
              "      <th>4</th>\n",
              "      <th>5</th>\n",
              "      <th>6</th>\n",
              "      <th>7</th>\n",
              "      <th>8</th>\n",
              "    </tr>\n",
              "  </thead>\n",
              "  <tbody>\n",
              "    <tr>\n",
              "      <th>0</th>\n",
              "      <td>M</td>\n",
              "      <td>0.455</td>\n",
              "      <td>0.365</td>\n",
              "      <td>0.095</td>\n",
              "      <td>0.5140</td>\n",
              "      <td>0.2245</td>\n",
              "      <td>0.1010</td>\n",
              "      <td>0.150</td>\n",
              "      <td>15</td>\n",
              "    </tr>\n",
              "    <tr>\n",
              "      <th>1</th>\n",
              "      <td>M</td>\n",
              "      <td>0.350</td>\n",
              "      <td>0.265</td>\n",
              "      <td>0.090</td>\n",
              "      <td>0.2255</td>\n",
              "      <td>0.0995</td>\n",
              "      <td>0.0485</td>\n",
              "      <td>0.070</td>\n",
              "      <td>7</td>\n",
              "    </tr>\n",
              "    <tr>\n",
              "      <th>2</th>\n",
              "      <td>F</td>\n",
              "      <td>0.530</td>\n",
              "      <td>0.420</td>\n",
              "      <td>0.135</td>\n",
              "      <td>0.6770</td>\n",
              "      <td>0.2565</td>\n",
              "      <td>0.1415</td>\n",
              "      <td>0.210</td>\n",
              "      <td>9</td>\n",
              "    </tr>\n",
              "    <tr>\n",
              "      <th>3</th>\n",
              "      <td>M</td>\n",
              "      <td>0.440</td>\n",
              "      <td>0.365</td>\n",
              "      <td>0.125</td>\n",
              "      <td>0.5160</td>\n",
              "      <td>0.2155</td>\n",
              "      <td>0.1140</td>\n",
              "      <td>0.155</td>\n",
              "      <td>10</td>\n",
              "    </tr>\n",
              "    <tr>\n",
              "      <th>4</th>\n",
              "      <td>I</td>\n",
              "      <td>0.330</td>\n",
              "      <td>0.255</td>\n",
              "      <td>0.080</td>\n",
              "      <td>0.2050</td>\n",
              "      <td>0.0895</td>\n",
              "      <td>0.0395</td>\n",
              "      <td>0.055</td>\n",
              "      <td>7</td>\n",
              "    </tr>\n",
              "  </tbody>\n",
              "</table>\n",
              "</div>\n",
              "      <button class=\"colab-df-convert\" onclick=\"convertToInteractive('df-51922adc-4bba-475f-95b3-1935f6f9f948')\"\n",
              "              title=\"Convert this dataframe to an interactive table.\"\n",
              "              style=\"display:none;\">\n",
              "        \n",
              "  <svg xmlns=\"http://www.w3.org/2000/svg\" height=\"24px\"viewBox=\"0 0 24 24\"\n",
              "       width=\"24px\">\n",
              "    <path d=\"M0 0h24v24H0V0z\" fill=\"none\"/>\n",
              "    <path d=\"M18.56 5.44l.94 2.06.94-2.06 2.06-.94-2.06-.94-.94-2.06-.94 2.06-2.06.94zm-11 1L8.5 8.5l.94-2.06 2.06-.94-2.06-.94L8.5 2.5l-.94 2.06-2.06.94zm10 10l.94 2.06.94-2.06 2.06-.94-2.06-.94-.94-2.06-.94 2.06-2.06.94z\"/><path d=\"M17.41 7.96l-1.37-1.37c-.4-.4-.92-.59-1.43-.59-.52 0-1.04.2-1.43.59L10.3 9.45l-7.72 7.72c-.78.78-.78 2.05 0 2.83L4 21.41c.39.39.9.59 1.41.59.51 0 1.02-.2 1.41-.59l7.78-7.78 2.81-2.81c.8-.78.8-2.07 0-2.86zM5.41 20L4 18.59l7.72-7.72 1.47 1.35L5.41 20z\"/>\n",
              "  </svg>\n",
              "      </button>\n",
              "      \n",
              "  <style>\n",
              "    .colab-df-container {\n",
              "      display:flex;\n",
              "      flex-wrap:wrap;\n",
              "      gap: 12px;\n",
              "    }\n",
              "\n",
              "    .colab-df-convert {\n",
              "      background-color: #E8F0FE;\n",
              "      border: none;\n",
              "      border-radius: 50%;\n",
              "      cursor: pointer;\n",
              "      display: none;\n",
              "      fill: #1967D2;\n",
              "      height: 32px;\n",
              "      padding: 0 0 0 0;\n",
              "      width: 32px;\n",
              "    }\n",
              "\n",
              "    .colab-df-convert:hover {\n",
              "      background-color: #E2EBFA;\n",
              "      box-shadow: 0px 1px 2px rgba(60, 64, 67, 0.3), 0px 1px 3px 1px rgba(60, 64, 67, 0.15);\n",
              "      fill: #174EA6;\n",
              "    }\n",
              "\n",
              "    [theme=dark] .colab-df-convert {\n",
              "      background-color: #3B4455;\n",
              "      fill: #D2E3FC;\n",
              "    }\n",
              "\n",
              "    [theme=dark] .colab-df-convert:hover {\n",
              "      background-color: #434B5C;\n",
              "      box-shadow: 0px 1px 3px 1px rgba(0, 0, 0, 0.15);\n",
              "      filter: drop-shadow(0px 1px 2px rgba(0, 0, 0, 0.3));\n",
              "      fill: #FFFFFF;\n",
              "    }\n",
              "  </style>\n",
              "\n",
              "      <script>\n",
              "        const buttonEl =\n",
              "          document.querySelector('#df-51922adc-4bba-475f-95b3-1935f6f9f948 button.colab-df-convert');\n",
              "        buttonEl.style.display =\n",
              "          google.colab.kernel.accessAllowed ? 'block' : 'none';\n",
              "\n",
              "        async function convertToInteractive(key) {\n",
              "          const element = document.querySelector('#df-51922adc-4bba-475f-95b3-1935f6f9f948');\n",
              "          const dataTable =\n",
              "            await google.colab.kernel.invokeFunction('convertToInteractive',\n",
              "                                                     [key], {});\n",
              "          if (!dataTable) return;\n",
              "\n",
              "          const docLinkHtml = 'Like what you see? Visit the ' +\n",
              "            '<a target=\"_blank\" href=https://colab.research.google.com/notebooks/data_table.ipynb>data table notebook</a>'\n",
              "            + ' to learn more about interactive tables.';\n",
              "          element.innerHTML = '';\n",
              "          dataTable['output_type'] = 'display_data';\n",
              "          await google.colab.output.renderOutput(dataTable, element);\n",
              "          const docLink = document.createElement('div');\n",
              "          docLink.innerHTML = docLinkHtml;\n",
              "          element.appendChild(docLink);\n",
              "        }\n",
              "      </script>\n",
              "    </div>\n",
              "  </div>\n",
              "  "
            ],
            "text/plain": [
              "   0      1      2      3       4       5       6      7   8\n",
              "0  M  0.455  0.365  0.095  0.5140  0.2245  0.1010  0.150  15\n",
              "1  M  0.350  0.265  0.090  0.2255  0.0995  0.0485  0.070   7\n",
              "2  F  0.530  0.420  0.135  0.6770  0.2565  0.1415  0.210   9\n",
              "3  M  0.440  0.365  0.125  0.5160  0.2155  0.1140  0.155  10\n",
              "4  I  0.330  0.255  0.080  0.2050  0.0895  0.0395  0.055   7"
            ]
          },
          "metadata": {},
          "execution_count": 41
        }
      ]
    },
    {
      "cell_type": "code",
      "source": [
        "df.columns = hed\n",
        "dforig = df"
      ],
      "metadata": {
        "id": "LYPvKmI-p8SZ"
      },
      "execution_count": 42,
      "outputs": []
    },
    {
      "cell_type": "markdown",
      "source": [
        "## ALUBÓN (Regresion)"
      ],
      "metadata": {
        "id": "pc24l2OJKpBQ"
      }
    },
    {
      "cell_type": "code",
      "source": [
        "df['age'] = df.apply(lambda r: r.Rings + 1.5, axis = 1)\n",
        "df2 = df\n",
        "df2.pop('Rings')"
      ],
      "metadata": {
        "id": "CFwh-0O7NG3K"
      },
      "execution_count": null,
      "outputs": []
    },
    {
      "cell_type": "code",
      "source": [
        "dforig.head()"
      ],
      "metadata": {
        "colab": {
          "base_uri": "https://localhost:8080/",
          "height": 206
        },
        "id": "8cmQ_kTvMcdw",
        "outputId": "324d1829-e4fc-4d68-da0f-e2d08f8b643f"
      },
      "execution_count": 18,
      "outputs": [
        {
          "output_type": "execute_result",
          "data": {
            "text/html": [
              "\n",
              "  <div id=\"df-47e79ed7-8b0a-439e-971b-d662b1799e58\">\n",
              "    <div class=\"colab-df-container\">\n",
              "      <div>\n",
              "<style scoped>\n",
              "    .dataframe tbody tr th:only-of-type {\n",
              "        vertical-align: middle;\n",
              "    }\n",
              "\n",
              "    .dataframe tbody tr th {\n",
              "        vertical-align: top;\n",
              "    }\n",
              "\n",
              "    .dataframe thead th {\n",
              "        text-align: right;\n",
              "    }\n",
              "</style>\n",
              "<table border=\"1\" class=\"dataframe\">\n",
              "  <thead>\n",
              "    <tr style=\"text-align: right;\">\n",
              "      <th></th>\n",
              "      <th>Sex</th>\n",
              "      <th>Length</th>\n",
              "      <th>Diameter</th>\n",
              "      <th>Height</th>\n",
              "      <th>Whole weight</th>\n",
              "      <th>Shucked weight</th>\n",
              "      <th>Viscera weight</th>\n",
              "      <th>Shell weight</th>\n",
              "      <th>age</th>\n",
              "    </tr>\n",
              "  </thead>\n",
              "  <tbody>\n",
              "    <tr>\n",
              "      <th>0</th>\n",
              "      <td>M</td>\n",
              "      <td>0.455</td>\n",
              "      <td>0.365</td>\n",
              "      <td>0.095</td>\n",
              "      <td>0.5140</td>\n",
              "      <td>0.2245</td>\n",
              "      <td>0.1010</td>\n",
              "      <td>0.150</td>\n",
              "      <td>16.5</td>\n",
              "    </tr>\n",
              "    <tr>\n",
              "      <th>1</th>\n",
              "      <td>M</td>\n",
              "      <td>0.350</td>\n",
              "      <td>0.265</td>\n",
              "      <td>0.090</td>\n",
              "      <td>0.2255</td>\n",
              "      <td>0.0995</td>\n",
              "      <td>0.0485</td>\n",
              "      <td>0.070</td>\n",
              "      <td>8.5</td>\n",
              "    </tr>\n",
              "    <tr>\n",
              "      <th>2</th>\n",
              "      <td>F</td>\n",
              "      <td>0.530</td>\n",
              "      <td>0.420</td>\n",
              "      <td>0.135</td>\n",
              "      <td>0.6770</td>\n",
              "      <td>0.2565</td>\n",
              "      <td>0.1415</td>\n",
              "      <td>0.210</td>\n",
              "      <td>10.5</td>\n",
              "    </tr>\n",
              "    <tr>\n",
              "      <th>3</th>\n",
              "      <td>M</td>\n",
              "      <td>0.440</td>\n",
              "      <td>0.365</td>\n",
              "      <td>0.125</td>\n",
              "      <td>0.5160</td>\n",
              "      <td>0.2155</td>\n",
              "      <td>0.1140</td>\n",
              "      <td>0.155</td>\n",
              "      <td>11.5</td>\n",
              "    </tr>\n",
              "    <tr>\n",
              "      <th>4</th>\n",
              "      <td>I</td>\n",
              "      <td>0.330</td>\n",
              "      <td>0.255</td>\n",
              "      <td>0.080</td>\n",
              "      <td>0.2050</td>\n",
              "      <td>0.0895</td>\n",
              "      <td>0.0395</td>\n",
              "      <td>0.055</td>\n",
              "      <td>8.5</td>\n",
              "    </tr>\n",
              "  </tbody>\n",
              "</table>\n",
              "</div>\n",
              "      <button class=\"colab-df-convert\" onclick=\"convertToInteractive('df-47e79ed7-8b0a-439e-971b-d662b1799e58')\"\n",
              "              title=\"Convert this dataframe to an interactive table.\"\n",
              "              style=\"display:none;\">\n",
              "        \n",
              "  <svg xmlns=\"http://www.w3.org/2000/svg\" height=\"24px\"viewBox=\"0 0 24 24\"\n",
              "       width=\"24px\">\n",
              "    <path d=\"M0 0h24v24H0V0z\" fill=\"none\"/>\n",
              "    <path d=\"M18.56 5.44l.94 2.06.94-2.06 2.06-.94-2.06-.94-.94-2.06-.94 2.06-2.06.94zm-11 1L8.5 8.5l.94-2.06 2.06-.94-2.06-.94L8.5 2.5l-.94 2.06-2.06.94zm10 10l.94 2.06.94-2.06 2.06-.94-2.06-.94-.94-2.06-.94 2.06-2.06.94z\"/><path d=\"M17.41 7.96l-1.37-1.37c-.4-.4-.92-.59-1.43-.59-.52 0-1.04.2-1.43.59L10.3 9.45l-7.72 7.72c-.78.78-.78 2.05 0 2.83L4 21.41c.39.39.9.59 1.41.59.51 0 1.02-.2 1.41-.59l7.78-7.78 2.81-2.81c.8-.78.8-2.07 0-2.86zM5.41 20L4 18.59l7.72-7.72 1.47 1.35L5.41 20z\"/>\n",
              "  </svg>\n",
              "      </button>\n",
              "      \n",
              "  <style>\n",
              "    .colab-df-container {\n",
              "      display:flex;\n",
              "      flex-wrap:wrap;\n",
              "      gap: 12px;\n",
              "    }\n",
              "\n",
              "    .colab-df-convert {\n",
              "      background-color: #E8F0FE;\n",
              "      border: none;\n",
              "      border-radius: 50%;\n",
              "      cursor: pointer;\n",
              "      display: none;\n",
              "      fill: #1967D2;\n",
              "      height: 32px;\n",
              "      padding: 0 0 0 0;\n",
              "      width: 32px;\n",
              "    }\n",
              "\n",
              "    .colab-df-convert:hover {\n",
              "      background-color: #E2EBFA;\n",
              "      box-shadow: 0px 1px 2px rgba(60, 64, 67, 0.3), 0px 1px 3px 1px rgba(60, 64, 67, 0.15);\n",
              "      fill: #174EA6;\n",
              "    }\n",
              "\n",
              "    [theme=dark] .colab-df-convert {\n",
              "      background-color: #3B4455;\n",
              "      fill: #D2E3FC;\n",
              "    }\n",
              "\n",
              "    [theme=dark] .colab-df-convert:hover {\n",
              "      background-color: #434B5C;\n",
              "      box-shadow: 0px 1px 3px 1px rgba(0, 0, 0, 0.15);\n",
              "      filter: drop-shadow(0px 1px 2px rgba(0, 0, 0, 0.3));\n",
              "      fill: #FFFFFF;\n",
              "    }\n",
              "  </style>\n",
              "\n",
              "      <script>\n",
              "        const buttonEl =\n",
              "          document.querySelector('#df-47e79ed7-8b0a-439e-971b-d662b1799e58 button.colab-df-convert');\n",
              "        buttonEl.style.display =\n",
              "          google.colab.kernel.accessAllowed ? 'block' : 'none';\n",
              "\n",
              "        async function convertToInteractive(key) {\n",
              "          const element = document.querySelector('#df-47e79ed7-8b0a-439e-971b-d662b1799e58');\n",
              "          const dataTable =\n",
              "            await google.colab.kernel.invokeFunction('convertToInteractive',\n",
              "                                                     [key], {});\n",
              "          if (!dataTable) return;\n",
              "\n",
              "          const docLinkHtml = 'Like what you see? Visit the ' +\n",
              "            '<a target=\"_blank\" href=https://colab.research.google.com/notebooks/data_table.ipynb>data table notebook</a>'\n",
              "            + ' to learn more about interactive tables.';\n",
              "          element.innerHTML = '';\n",
              "          dataTable['output_type'] = 'display_data';\n",
              "          await google.colab.output.renderOutput(dataTable, element);\n",
              "          const docLink = document.createElement('div');\n",
              "          docLink.innerHTML = docLinkHtml;\n",
              "          element.appendChild(docLink);\n",
              "        }\n",
              "      </script>\n",
              "    </div>\n",
              "  </div>\n",
              "  "
            ],
            "text/plain": [
              "  Sex  Length  Diameter  ...  Viscera weight  Shell weight   age\n",
              "0   M   0.455     0.365  ...          0.1010         0.150  16.5\n",
              "1   M   0.350     0.265  ...          0.0485         0.070   8.5\n",
              "2   F   0.530     0.420  ...          0.1415         0.210  10.5\n",
              "3   M   0.440     0.365  ...          0.1140         0.155  11.5\n",
              "4   I   0.330     0.255  ...          0.0395         0.055   8.5\n",
              "\n",
              "[5 rows x 9 columns]"
            ]
          },
          "metadata": {},
          "execution_count": 18
        }
      ]
    },
    {
      "cell_type": "code",
      "source": [
        "y = df.loc[:, 'age'].values\n",
        "y"
      ],
      "metadata": {
        "colab": {
          "base_uri": "https://localhost:8080/"
        },
        "id": "HSYGz8D4McaT",
        "outputId": "899d7d63-7126-43a6-8d8a-3750952b019f"
      },
      "execution_count": 9,
      "outputs": [
        {
          "output_type": "execute_result",
          "data": {
            "text/plain": [
              "array([16.5,  8.5, 10.5, ..., 10.5, 11.5, 13.5])"
            ]
          },
          "metadata": {},
          "execution_count": 9
        }
      ]
    },
    {
      "cell_type": "code",
      "source": [
        "X = df\n",
        "X.pop('age')\n",
        "X.pop('Sex')"
      ],
      "metadata": {
        "colab": {
          "base_uri": "https://localhost:8080/"
        },
        "id": "Nvn1uqKaMcXn",
        "outputId": "d072f7d3-2ced-4015-9185-e835c5523a23"
      },
      "execution_count": 19,
      "outputs": [
        {
          "output_type": "execute_result",
          "data": {
            "text/plain": [
              "0       M\n",
              "1       M\n",
              "2       F\n",
              "3       M\n",
              "4       I\n",
              "       ..\n",
              "4172    F\n",
              "4173    M\n",
              "4174    M\n",
              "4175    F\n",
              "4176    M\n",
              "Name: Sex, Length: 4177, dtype: object"
            ]
          },
          "metadata": {},
          "execution_count": 19
        }
      ]
    },
    {
      "cell_type": "code",
      "source": [
        "X = X.loc[:,:].values\n",
        "X"
      ],
      "metadata": {
        "colab": {
          "base_uri": "https://localhost:8080/"
        },
        "id": "7BztaTepSFOW",
        "outputId": "bd0b904f-94b4-4139-ba86-c22fc1453b97"
      },
      "execution_count": 20,
      "outputs": [
        {
          "output_type": "execute_result",
          "data": {
            "text/plain": [
              "array([[0.455 , 0.365 , 0.095 , ..., 0.2245, 0.101 , 0.15  ],\n",
              "       [0.35  , 0.265 , 0.09  , ..., 0.0995, 0.0485, 0.07  ],\n",
              "       [0.53  , 0.42  , 0.135 , ..., 0.2565, 0.1415, 0.21  ],\n",
              "       ...,\n",
              "       [0.6   , 0.475 , 0.205 , ..., 0.5255, 0.2875, 0.308 ],\n",
              "       [0.625 , 0.485 , 0.15  , ..., 0.531 , 0.261 , 0.296 ],\n",
              "       [0.71  , 0.555 , 0.195 , ..., 0.9455, 0.3765, 0.495 ]])"
            ]
          },
          "metadata": {},
          "execution_count": 20
        }
      ]
    },
    {
      "cell_type": "code",
      "source": [
        "X2 = df[['Length','Diameter','Height', 'Whole weight', 'Shucked weight','Viscera weight','Shell weight']]"
      ],
      "metadata": {
        "id": "otmWtM3EWcCq"
      },
      "execution_count": 22,
      "outputs": []
    },
    {
      "cell_type": "code",
      "source": [
        "reg = LinearRegression()  \n",
        "reg.fit(X2, y)"
      ],
      "metadata": {
        "colab": {
          "base_uri": "https://localhost:8080/"
        },
        "id": "ekeVv572qkUD",
        "outputId": "02627327-7cda-4f5d-e96e-ae43e587f3eb"
      },
      "execution_count": 31,
      "outputs": [
        {
          "output_type": "execute_result",
          "data": {
            "text/plain": [
              "LinearRegression()"
            ]
          },
          "metadata": {},
          "execution_count": 31
        }
      ]
    },
    {
      "cell_type": "code",
      "source": [
        "print(\"Intercept: \", reg.intercept_)\n",
        "print(\"Coefficients:\")\n",
        "list(zip(X2, reg.coef_))"
      ],
      "metadata": {
        "colab": {
          "base_uri": "https://localhost:8080/"
        },
        "id": "tiv0W2UlqkFB",
        "outputId": "329e7dba-c172-4fe3-aa7e-f061b53bdcb3"
      },
      "execution_count": 32,
      "outputs": [
        {
          "output_type": "stream",
          "name": "stdout",
          "text": [
            "Intercept:  4.485154181437299\n",
            "Coefficients:\n"
          ]
        },
        {
          "output_type": "execute_result",
          "data": {
            "text/plain": [
              "[('Length', -1.571897375474692),\n",
              " ('Diameter', 13.360916170642374),\n",
              " ('Height', 11.826072483837562),\n",
              " ('Whole weight', 9.247414445022951),\n",
              " ('Shucked weight', -20.213913185772917),\n",
              " ('Viscera weight', -9.829675481568211),\n",
              " ('Shell weight', 8.576242414916441)]"
            ]
          },
          "metadata": {},
          "execution_count": 32
        }
      ]
    },
    {
      "cell_type": "code",
      "source": [
        "reg.score(X2, y)"
      ],
      "metadata": {
        "colab": {
          "base_uri": "https://localhost:8080/"
        },
        "id": "WF0LGlOhrRV5",
        "outputId": "5bcff644-c9c9-4ea4-e7c4-8ec911871b19"
      },
      "execution_count": 33,
      "outputs": [
        {
          "output_type": "execute_result",
          "data": {
            "text/plain": [
              "0.5276299399919839"
            ]
          },
          "metadata": {},
          "execution_count": 33
        }
      ]
    },
    {
      "cell_type": "code",
      "source": [
        "x_train, x_test, y_train, y_test = train_test_split(X2, y, test_size = 0.1, random_state = 100)"
      ],
      "metadata": {
        "id": "e5voknA5VpfI"
      },
      "execution_count": 34,
      "outputs": []
    },
    {
      "cell_type": "code",
      "source": [
        "reg = LinearRegression()  \n",
        "reg.fit(x_train, y_train)"
      ],
      "metadata": {
        "colab": {
          "base_uri": "https://localhost:8080/"
        },
        "id": "TMvb-EEmVpWK",
        "outputId": "4e946585-565b-435c-fdb7-4034e4667d7e"
      },
      "execution_count": 35,
      "outputs": [
        {
          "output_type": "execute_result",
          "data": {
            "text/plain": [
              "LinearRegression()"
            ]
          },
          "metadata": {},
          "execution_count": 35
        }
      ]
    },
    {
      "cell_type": "code",
      "source": [
        "print(\"Intercept: \", reg.intercept_)\n",
        "print(\"Coefficients:\")\n",
        "list(zip(x_train, reg.coef_)) #la funcion zip devuelve tuplas con nombre de variable  + valor"
      ],
      "metadata": {
        "colab": {
          "base_uri": "https://localhost:8080/"
        },
        "id": "aWDLRlY7V4GT",
        "outputId": "4da0b668-4035-43ab-bd70-f1331c018287"
      },
      "execution_count": 36,
      "outputs": [
        {
          "output_type": "stream",
          "name": "stdout",
          "text": [
            "Intercept:  4.40050588871493\n",
            "Coefficients:\n"
          ]
        },
        {
          "output_type": "execute_result",
          "data": {
            "text/plain": [
              "[('Length', -0.7939372209018942),\n",
              " ('Diameter', 13.079950504060662),\n",
              " ('Height', 10.819938564946945),\n",
              " ('Whole weight', 9.90824443856532),\n",
              " ('Shucked weight', -21.069827675036656),\n",
              " ('Viscera weight', -10.070523996583722),\n",
              " ('Shell weight', 7.471908856779839)]"
            ]
          },
          "metadata": {},
          "execution_count": 36
        }
      ]
    },
    {
      "cell_type": "code",
      "source": [
        "reg.score(x_train, y_train)"
      ],
      "metadata": {
        "colab": {
          "base_uri": "https://localhost:8080/"
        },
        "id": "JnBptY5Fr6PB",
        "outputId": "9a7af85d-c069-449c-c313-ac482c16465a"
      },
      "execution_count": 38,
      "outputs": [
        {
          "output_type": "execute_result",
          "data": {
            "text/plain": [
              "0.5284120587407244"
            ]
          },
          "metadata": {},
          "execution_count": 38
        }
      ]
    },
    {
      "cell_type": "code",
      "source": [
        "reg.score(x_test, y_test)"
      ],
      "metadata": {
        "colab": {
          "base_uri": "https://localhost:8080/"
        },
        "id": "TTmC8GjkrvuC",
        "outputId": "da04fd8f-64ab-459d-93eb-02f3451e46fb"
      },
      "execution_count": 37,
      "outputs": [
        {
          "output_type": "execute_result",
          "data": {
            "text/plain": [
              "0.5184128399399383"
            ]
          },
          "metadata": {},
          "execution_count": 37
        }
      ]
    },
    {
      "cell_type": "markdown",
      "source": [
        "## ALUBÓN (KNN)"
      ],
      "metadata": {
        "id": "kLtYkIPlXMft"
      }
    },
    {
      "cell_type": "code",
      "source": [
        "df.head()"
      ],
      "metadata": {
        "colab": {
          "base_uri": "https://localhost:8080/",
          "height": 206
        },
        "id": "Oxk3SuWqVn0i",
        "outputId": "ca98b5c4-0947-4295-b846-49a900ac80f3"
      },
      "execution_count": 43,
      "outputs": [
        {
          "output_type": "execute_result",
          "data": {
            "text/html": [
              "\n",
              "  <div id=\"df-1739b492-856f-4e9f-aab1-2d69550ced00\">\n",
              "    <div class=\"colab-df-container\">\n",
              "      <div>\n",
              "<style scoped>\n",
              "    .dataframe tbody tr th:only-of-type {\n",
              "        vertical-align: middle;\n",
              "    }\n",
              "\n",
              "    .dataframe tbody tr th {\n",
              "        vertical-align: top;\n",
              "    }\n",
              "\n",
              "    .dataframe thead th {\n",
              "        text-align: right;\n",
              "    }\n",
              "</style>\n",
              "<table border=\"1\" class=\"dataframe\">\n",
              "  <thead>\n",
              "    <tr style=\"text-align: right;\">\n",
              "      <th></th>\n",
              "      <th>Sex</th>\n",
              "      <th>Length</th>\n",
              "      <th>Diameter</th>\n",
              "      <th>Height</th>\n",
              "      <th>Whole weight</th>\n",
              "      <th>Shucked weight</th>\n",
              "      <th>Viscera weight</th>\n",
              "      <th>Shell weight</th>\n",
              "      <th>Rings</th>\n",
              "    </tr>\n",
              "  </thead>\n",
              "  <tbody>\n",
              "    <tr>\n",
              "      <th>0</th>\n",
              "      <td>M</td>\n",
              "      <td>0.455</td>\n",
              "      <td>0.365</td>\n",
              "      <td>0.095</td>\n",
              "      <td>0.5140</td>\n",
              "      <td>0.2245</td>\n",
              "      <td>0.1010</td>\n",
              "      <td>0.150</td>\n",
              "      <td>15</td>\n",
              "    </tr>\n",
              "    <tr>\n",
              "      <th>1</th>\n",
              "      <td>M</td>\n",
              "      <td>0.350</td>\n",
              "      <td>0.265</td>\n",
              "      <td>0.090</td>\n",
              "      <td>0.2255</td>\n",
              "      <td>0.0995</td>\n",
              "      <td>0.0485</td>\n",
              "      <td>0.070</td>\n",
              "      <td>7</td>\n",
              "    </tr>\n",
              "    <tr>\n",
              "      <th>2</th>\n",
              "      <td>F</td>\n",
              "      <td>0.530</td>\n",
              "      <td>0.420</td>\n",
              "      <td>0.135</td>\n",
              "      <td>0.6770</td>\n",
              "      <td>0.2565</td>\n",
              "      <td>0.1415</td>\n",
              "      <td>0.210</td>\n",
              "      <td>9</td>\n",
              "    </tr>\n",
              "    <tr>\n",
              "      <th>3</th>\n",
              "      <td>M</td>\n",
              "      <td>0.440</td>\n",
              "      <td>0.365</td>\n",
              "      <td>0.125</td>\n",
              "      <td>0.5160</td>\n",
              "      <td>0.2155</td>\n",
              "      <td>0.1140</td>\n",
              "      <td>0.155</td>\n",
              "      <td>10</td>\n",
              "    </tr>\n",
              "    <tr>\n",
              "      <th>4</th>\n",
              "      <td>I</td>\n",
              "      <td>0.330</td>\n",
              "      <td>0.255</td>\n",
              "      <td>0.080</td>\n",
              "      <td>0.2050</td>\n",
              "      <td>0.0895</td>\n",
              "      <td>0.0395</td>\n",
              "      <td>0.055</td>\n",
              "      <td>7</td>\n",
              "    </tr>\n",
              "  </tbody>\n",
              "</table>\n",
              "</div>\n",
              "      <button class=\"colab-df-convert\" onclick=\"convertToInteractive('df-1739b492-856f-4e9f-aab1-2d69550ced00')\"\n",
              "              title=\"Convert this dataframe to an interactive table.\"\n",
              "              style=\"display:none;\">\n",
              "        \n",
              "  <svg xmlns=\"http://www.w3.org/2000/svg\" height=\"24px\"viewBox=\"0 0 24 24\"\n",
              "       width=\"24px\">\n",
              "    <path d=\"M0 0h24v24H0V0z\" fill=\"none\"/>\n",
              "    <path d=\"M18.56 5.44l.94 2.06.94-2.06 2.06-.94-2.06-.94-.94-2.06-.94 2.06-2.06.94zm-11 1L8.5 8.5l.94-2.06 2.06-.94-2.06-.94L8.5 2.5l-.94 2.06-2.06.94zm10 10l.94 2.06.94-2.06 2.06-.94-2.06-.94-.94-2.06-.94 2.06-2.06.94z\"/><path d=\"M17.41 7.96l-1.37-1.37c-.4-.4-.92-.59-1.43-.59-.52 0-1.04.2-1.43.59L10.3 9.45l-7.72 7.72c-.78.78-.78 2.05 0 2.83L4 21.41c.39.39.9.59 1.41.59.51 0 1.02-.2 1.41-.59l7.78-7.78 2.81-2.81c.8-.78.8-2.07 0-2.86zM5.41 20L4 18.59l7.72-7.72 1.47 1.35L5.41 20z\"/>\n",
              "  </svg>\n",
              "      </button>\n",
              "      \n",
              "  <style>\n",
              "    .colab-df-container {\n",
              "      display:flex;\n",
              "      flex-wrap:wrap;\n",
              "      gap: 12px;\n",
              "    }\n",
              "\n",
              "    .colab-df-convert {\n",
              "      background-color: #E8F0FE;\n",
              "      border: none;\n",
              "      border-radius: 50%;\n",
              "      cursor: pointer;\n",
              "      display: none;\n",
              "      fill: #1967D2;\n",
              "      height: 32px;\n",
              "      padding: 0 0 0 0;\n",
              "      width: 32px;\n",
              "    }\n",
              "\n",
              "    .colab-df-convert:hover {\n",
              "      background-color: #E2EBFA;\n",
              "      box-shadow: 0px 1px 2px rgba(60, 64, 67, 0.3), 0px 1px 3px 1px rgba(60, 64, 67, 0.15);\n",
              "      fill: #174EA6;\n",
              "    }\n",
              "\n",
              "    [theme=dark] .colab-df-convert {\n",
              "      background-color: #3B4455;\n",
              "      fill: #D2E3FC;\n",
              "    }\n",
              "\n",
              "    [theme=dark] .colab-df-convert:hover {\n",
              "      background-color: #434B5C;\n",
              "      box-shadow: 0px 1px 3px 1px rgba(0, 0, 0, 0.15);\n",
              "      filter: drop-shadow(0px 1px 2px rgba(0, 0, 0, 0.3));\n",
              "      fill: #FFFFFF;\n",
              "    }\n",
              "  </style>\n",
              "\n",
              "      <script>\n",
              "        const buttonEl =\n",
              "          document.querySelector('#df-1739b492-856f-4e9f-aab1-2d69550ced00 button.colab-df-convert');\n",
              "        buttonEl.style.display =\n",
              "          google.colab.kernel.accessAllowed ? 'block' : 'none';\n",
              "\n",
              "        async function convertToInteractive(key) {\n",
              "          const element = document.querySelector('#df-1739b492-856f-4e9f-aab1-2d69550ced00');\n",
              "          const dataTable =\n",
              "            await google.colab.kernel.invokeFunction('convertToInteractive',\n",
              "                                                     [key], {});\n",
              "          if (!dataTable) return;\n",
              "\n",
              "          const docLinkHtml = 'Like what you see? Visit the ' +\n",
              "            '<a target=\"_blank\" href=https://colab.research.google.com/notebooks/data_table.ipynb>data table notebook</a>'\n",
              "            + ' to learn more about interactive tables.';\n",
              "          element.innerHTML = '';\n",
              "          dataTable['output_type'] = 'display_data';\n",
              "          await google.colab.output.renderOutput(dataTable, element);\n",
              "          const docLink = document.createElement('div');\n",
              "          docLink.innerHTML = docLinkHtml;\n",
              "          element.appendChild(docLink);\n",
              "        }\n",
              "      </script>\n",
              "    </div>\n",
              "  </div>\n",
              "  "
            ],
            "text/plain": [
              "  Sex  Length  Diameter  ...  Viscera weight  Shell weight  Rings\n",
              "0   M   0.455     0.365  ...          0.1010         0.150     15\n",
              "1   M   0.350     0.265  ...          0.0485         0.070      7\n",
              "2   F   0.530     0.420  ...          0.1415         0.210      9\n",
              "3   M   0.440     0.365  ...          0.1140         0.155     10\n",
              "4   I   0.330     0.255  ...          0.0395         0.055      7\n",
              "\n",
              "[5 rows x 9 columns]"
            ]
          },
          "metadata": {},
          "execution_count": 43
        }
      ]
    },
    {
      "cell_type": "code",
      "source": [
        "y = df['Sex']\n",
        "X = df[['Length','Diameter','Height', 'Whole weight', 'Shucked weight','Viscera weight','Shell weight', 'Rings']]"
      ],
      "metadata": {
        "id": "gknbgQEkSl_V"
      },
      "execution_count": 44,
      "outputs": []
    },
    {
      "cell_type": "code",
      "source": [
        "neigh = KNeighborsClassifier(n_neighbors=3)\n",
        "neigh.fit(X, y)"
      ],
      "metadata": {
        "colab": {
          "base_uri": "https://localhost:8080/"
        },
        "id": "qzzZVLprcg30",
        "outputId": "275a8e6c-e288-45a8-80fc-cfcbe4e58885"
      },
      "execution_count": 45,
      "outputs": [
        {
          "output_type": "execute_result",
          "data": {
            "text/plain": [
              "KNeighborsClassifier(n_neighbors=3)"
            ]
          },
          "metadata": {},
          "execution_count": 45
        }
      ]
    },
    {
      "cell_type": "code",
      "source": [
        "predictions = neigh.predict(X)\n",
        "print(predictions)"
      ],
      "metadata": {
        "colab": {
          "base_uri": "https://localhost:8080/"
        },
        "id": "l-aen6QvSlxi",
        "outputId": "6cd1eaa6-cb77-4195-f339-85edee5d8606"
      },
      "execution_count": 46,
      "outputs": [
        {
          "output_type": "stream",
          "name": "stdout",
          "text": [
            "['I' 'I' 'I' ... 'M' 'F' 'M']\n"
          ]
        }
      ]
    },
    {
      "cell_type": "code",
      "source": [
        "print(skmt.accuracy_score(y, predictions))"
      ],
      "metadata": {
        "colab": {
          "base_uri": "https://localhost:8080/"
        },
        "id": "N6wgvC56Mb6p",
        "outputId": "7ef87372-7df4-4ae9-fa24-0b2e818c5022"
      },
      "execution_count": 47,
      "outputs": [
        {
          "output_type": "stream",
          "name": "stdout",
          "text": [
            "0.7409624132152263\n"
          ]
        }
      ]
    },
    {
      "cell_type": "code",
      "source": [
        "x_train, x_test, y_train, y_test = train_test_split(X, y, test_size = 0.1, random_state = 50)"
      ],
      "metadata": {
        "id": "J5geXdsCty86"
      },
      "execution_count": 72,
      "outputs": []
    },
    {
      "cell_type": "code",
      "source": [
        "neigh = KNeighborsClassifier(n_neighbors=3)\n",
        "neigh.fit(x_train, y_train)"
      ],
      "metadata": {
        "colab": {
          "base_uri": "https://localhost:8080/"
        },
        "id": "0am3ab7Zt9Ia",
        "outputId": "c60e50e2-62d8-41f2-9cf7-79d01e1c3687"
      },
      "execution_count": 73,
      "outputs": [
        {
          "output_type": "execute_result",
          "data": {
            "text/plain": [
              "KNeighborsClassifier(n_neighbors=3)"
            ]
          },
          "metadata": {},
          "execution_count": 73
        }
      ]
    },
    {
      "cell_type": "code",
      "source": [
        "predictions = neigh.predict(x_test)\n",
        "print(predictions)"
      ],
      "metadata": {
        "colab": {
          "base_uri": "https://localhost:8080/"
        },
        "id": "FDGvQ3aduFQB",
        "outputId": "29dce77a-31e6-492f-e2ba-055c2a4957bc"
      },
      "execution_count": 74,
      "outputs": [
        {
          "output_type": "stream",
          "name": "stdout",
          "text": [
            "['F' 'F' 'I' 'M' 'I' 'I' 'F' 'I' 'I' 'F' 'M' 'F' 'I' 'F' 'M' 'I' 'F' 'I'\n",
            " 'F' 'I' 'I' 'F' 'F' 'I' 'F' 'M' 'I' 'M' 'F' 'M' 'I' 'M' 'M' 'I' 'I' 'F'\n",
            " 'F' 'F' 'I' 'I' 'M' 'I' 'I' 'I' 'I' 'M' 'F' 'I' 'I' 'F' 'M' 'F' 'F' 'M'\n",
            " 'I' 'I' 'I' 'M' 'F' 'F' 'M' 'I' 'I' 'M' 'M' 'M' 'I' 'F' 'I' 'M' 'I' 'I'\n",
            " 'F' 'F' 'F' 'F' 'M' 'M' 'M' 'M' 'I' 'M' 'F' 'M' 'F' 'F' 'I' 'I' 'I' 'F'\n",
            " 'M' 'M' 'M' 'M' 'F' 'M' 'M' 'F' 'M' 'M' 'I' 'M' 'I' 'M' 'M' 'F' 'M' 'I'\n",
            " 'I' 'F' 'F' 'M' 'F' 'I' 'M' 'I' 'F' 'M' 'I' 'M' 'M' 'M' 'F' 'F' 'F' 'M'\n",
            " 'I' 'F' 'F' 'I' 'M' 'M' 'I' 'I' 'M' 'F' 'I' 'M' 'F' 'F' 'I' 'F' 'F' 'F'\n",
            " 'M' 'M' 'M' 'M' 'I' 'I' 'F' 'M' 'F' 'I' 'I' 'M' 'F' 'I' 'I' 'F' 'I' 'M'\n",
            " 'F' 'F' 'M' 'I' 'F' 'F' 'F' 'F' 'I' 'F' 'F' 'F' 'F' 'M' 'I' 'I' 'F' 'M'\n",
            " 'F' 'F' 'M' 'F' 'F' 'F' 'M' 'F' 'F' 'F' 'M' 'F' 'I' 'I' 'I' 'M' 'M' 'F'\n",
            " 'I' 'M' 'I' 'M' 'F' 'I' 'I' 'I' 'I' 'M' 'F' 'F' 'F' 'I' 'M' 'F' 'I' 'I'\n",
            " 'I' 'F' 'I' 'F' 'F' 'M' 'M' 'M' 'F' 'M' 'M' 'F' 'M' 'F' 'F' 'I' 'M' 'I'\n",
            " 'F' 'I' 'F' 'M' 'I' 'M' 'F' 'I' 'F' 'F' 'F' 'M' 'M' 'I' 'F' 'I' 'F' 'F'\n",
            " 'M' 'F' 'F' 'M' 'M' 'M' 'I' 'F' 'I' 'I' 'M' 'F' 'F' 'F' 'F' 'I' 'I' 'M'\n",
            " 'F' 'M' 'I' 'M' 'M' 'M' 'I' 'M' 'I' 'I' 'F' 'M' 'F' 'F' 'F' 'F' 'I' 'I'\n",
            " 'M' 'I' 'F' 'F' 'F' 'F' 'M' 'F' 'M' 'I' 'I' 'I' 'M' 'M' 'I' 'M' 'F' 'F'\n",
            " 'M' 'M' 'M' 'I' 'F' 'I' 'I' 'I' 'I' 'F' 'F' 'M' 'I' 'M' 'F' 'I' 'M' 'M'\n",
            " 'M' 'M' 'I' 'I' 'M' 'F' 'F' 'I' 'M' 'F' 'M' 'M' 'I' 'F' 'I' 'I' 'F' 'F'\n",
            " 'F' 'F' 'F' 'I' 'F' 'M' 'I' 'M' 'M' 'M' 'F' 'I' 'M' 'F' 'M' 'M' 'F' 'I'\n",
            " 'F' 'M' 'I' 'F' 'F' 'F' 'M' 'M' 'I' 'I' 'M' 'F' 'F' 'M' 'F' 'F' 'M' 'F'\n",
            " 'I' 'F' 'M' 'F' 'F' 'I' 'F' 'F' 'M' 'M' 'M' 'M' 'I' 'F' 'I' 'M' 'I' 'M'\n",
            " 'I' 'I' 'I' 'M' 'F' 'I' 'I' 'F' 'F' 'I' 'F' 'F' 'F' 'I' 'F' 'F' 'M' 'M'\n",
            " 'M' 'M' 'I' 'F']\n"
          ]
        }
      ]
    },
    {
      "cell_type": "code",
      "source": [
        "print(skmt.accuracy_score(y_test, predictions))"
      ],
      "metadata": {
        "colab": {
          "base_uri": "https://localhost:8080/"
        },
        "id": "0BYHohfluKHy",
        "outputId": "c9867fc5-cbd5-4e6b-b59b-212fe1a2541e"
      },
      "execution_count": 75,
      "outputs": [
        {
          "output_type": "stream",
          "name": "stdout",
          "text": [
            "0.507177033492823\n"
          ]
        }
      ]
    },
    {
      "cell_type": "markdown",
      "source": [
        "## Respuestas"
      ],
      "metadata": {
        "id": "dFwYVAIafnqv"
      }
    },
    {
      "cell_type": "markdown",
      "source": [
        "**¿Cuál de KNN o regresión lineal pareció un mejor modelo cuando no usaste la división entrenar probar?**\n",
        "\n",
        "El modelo de test train de la regresion tuvo menor desempeño que el modelo general. 0.527 vs 0.518"
      ],
      "metadata": {
        "id": "Py2ukhTZsK0h"
      }
    },
    {
      "cell_type": "markdown",
      "source": [
        "**¿Cuál de KNN o regresión lineal pareció un mejor modelo cuando usaste la división entrenar probar?**\n",
        "\n",
        "El modelo de test train del KNN tuvo menor desempeño que el modelo general. 0.741 vs 0.507"
      ],
      "metadata": {
        "id": "zQsVKBIKtLtj"
      }
    },
    {
      "cell_type": "markdown",
      "source": [
        "**¿Hubo alguna ventaja en la regresión lineal en términos de la cantidad de código que tenías que escribir?**\n",
        "\n",
        "Los dos son relativamente efectivos en codigo"
      ],
      "metadata": {
        "id": "WkvrOryStMAz"
      }
    },
    {
      "cell_type": "markdown",
      "source": [
        "**¿Hay alguna forma de mostrarle a alguien cuál de los dos modelos fue más efectivo?**\n",
        "\n",
        "Si, mostrando el score de cada uno"
      ],
      "metadata": {
        "id": "a83Zo3JZtMgr"
      }
    },
    {
      "cell_type": "markdown",
      "source": [
        "**¿Crees que podrías haber mejorado KNN para mejorar la eficacia del modelo?**\n",
        "\n",
        "Si, tomando un tamaño de test mas pequeño.\n"
      ],
      "metadata": {
        "id": "8eY1YUPDtazq"
      }
    }
  ]
}