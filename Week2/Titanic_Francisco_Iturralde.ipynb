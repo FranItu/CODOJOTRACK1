{
  "nbformat": 4,
  "nbformat_minor": 0,
  "metadata": {
    "colab": {
      "name": "Titanic_Francisco_Iturralde.ipynb",
      "provenance": [],
      "collapsed_sections": []
    },
    "kernelspec": {
      "name": "python3",
      "display_name": "Python 3"
    },
    "language_info": {
      "name": "python"
    }
  },
  "cells": [
    {
      "cell_type": "code",
      "execution_count": 1,
      "metadata": {
        "colab": {
          "base_uri": "https://localhost:8080/"
        },
        "id": "gn2YtXCCTsJr",
        "outputId": "e798d198-471f-430a-8e4b-2b88193503ea"
      },
      "outputs": [
        {
          "output_type": "stream",
          "name": "stdout",
          "text": [
            "Mounted at /content/drive\n"
          ]
        }
      ],
      "source": [
        "from google.colab import drive\n",
        "drive.mount('/content/drive')"
      ]
    },
    {
      "cell_type": "code",
      "source": [
        "import pandas as pd\n",
        "import numpy as np"
      ],
      "metadata": {
        "id": "Wr_L1ov2Txbn"
      },
      "execution_count": 2,
      "outputs": []
    },
    {
      "cell_type": "code",
      "source": [
        "df = pd.read_csv('/content/drive/MyDrive/Coding_Dojo/Bases_De_Datos/titanic.csv')\n",
        "print(df.head()) #ej1\n",
        "print(np.round_(len(df[df['Survived'] == 1])/len(df['Survived']), decimals = 3)*100, '%') #ej2 imprime 38.4 %"
      ],
      "metadata": {
        "id": "XP9JnPPKT6HO",
        "colab": {
          "base_uri": "https://localhost:8080/"
        },
        "outputId": "b277604b-d857-4794-88b8-449364faba87"
      },
      "execution_count": 17,
      "outputs": [
        {
          "output_type": "stream",
          "name": "stdout",
          "text": [
            "   PassengerId  Survived  Pclass  ...     Fare Cabin  Embarked\n",
            "0            1         0       3  ...   7.2500   NaN         S\n",
            "1            2         1       1  ...  71.2833   C85         C\n",
            "2            3         1       3  ...   7.9250   NaN         S\n",
            "3            4         1       1  ...  53.1000  C123         S\n",
            "4            5         0       3  ...   8.0500   NaN         S\n",
            "\n",
            "[5 rows x 12 columns]\n",
            "38.4 %\n"
          ]
        }
      ]
    },
    {
      "cell_type": "code",
      "source": [
        "print(len(df[df['Sex'] == 'male']), 'males') #ej3 577 males\n",
        "print(len(df[df['Sex'] == 'female']), 'females') #314 females"
      ],
      "metadata": {
        "colab": {
          "base_uri": "https://localhost:8080/"
        },
        "id": "ScjwYte9Gi0j",
        "outputId": "d1ff500d-78a8-4df2-aabb-0035d199220b"
      },
      "execution_count": 19,
      "outputs": [
        {
          "output_type": "stream",
          "name": "stdout",
          "text": [
            "577 males\n",
            "314 females\n"
          ]
        }
      ]
    },
    {
      "cell_type": "code",
      "source": [
        "print(np.round_(len(df[df['Fare'] < 10])/len(df['Fare']), decimals = 3)*100, '%') #ej4 imprime 37.7 %"
      ],
      "metadata": {
        "colab": {
          "base_uri": "https://localhost:8080/"
        },
        "id": "1nF-z631MbUw",
        "outputId": "58656cc1-0c68-4895-e9dc-168ba493649b"
      },
      "execution_count": 21,
      "outputs": [
        {
          "output_type": "stream",
          "name": "stdout",
          "text": [
            "37.7 %\n"
          ]
        }
      ]
    },
    {
      "cell_type": "code",
      "source": [
        "df.groupby(['Survived'])['Age'].mean()\n",
        "# Survived\n",
        "# 0    30.626179     #ej5 NOT SURVIVED MEAN\n",
        "# 1    28.343690     #ej6 SURVIVED MEAN"
      ],
      "metadata": {
        "colab": {
          "base_uri": "https://localhost:8080/"
        },
        "id": "cN1JytbIMzoH",
        "outputId": "af1e49f9-ae35-4537-a24e-50ae806cfd07"
      },
      "execution_count": 23,
      "outputs": [
        {
          "output_type": "execute_result",
          "data": {
            "text/plain": [
              "Survived\n",
              "0    30.626179\n",
              "1    28.343690\n",
              "Name: Age, dtype: float64"
            ]
          },
          "metadata": {},
          "execution_count": 23
        }
      ]
    },
    {
      "cell_type": "code",
      "source": [
        "df.groupby(['Sex','Survived'])['Age'].mean()\n",
        "#ej7\n",
        "#Sex     Survived\n",
        "#female  0           25.046875\n",
        "#        1           28.847716\n",
        "#male    0           31.618056\n",
        "#        1           27.276022"
      ],
      "metadata": {
        "colab": {
          "base_uri": "https://localhost:8080/"
        },
        "id": "LClB9y0qOU9G",
        "outputId": "16427e1b-ae45-4679-8a0c-7883d58e2159"
      },
      "execution_count": 27,
      "outputs": [
        {
          "output_type": "execute_result",
          "data": {
            "text/plain": [
              "Sex     Survived\n",
              "female  0           25.046875\n",
              "        1           28.847716\n",
              "male    0           31.618056\n",
              "        1           27.276022\n",
              "Name: Age, dtype: float64"
            ]
          },
          "metadata": {},
          "execution_count": 27
        }
      ]
    }
  ]
}