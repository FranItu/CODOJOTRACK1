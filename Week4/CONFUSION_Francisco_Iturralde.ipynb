{
  "nbformat": 4,
  "nbformat_minor": 0,
  "metadata": {
    "colab": {
      "name": "CONFUSION_Francisco_Iturralde.ipynb",
      "provenance": [],
      "collapsed_sections": [],
      "authorship_tag": "ABX9TyPG+IKbhUjYF5Suj5D+tnfn",
      "include_colab_link": true
    },
    "kernelspec": {
      "name": "python3",
      "display_name": "Python 3"
    },
    "language_info": {
      "name": "python"
    }
  },
  "cells": [
    {
      "cell_type": "markdown",
      "metadata": {
        "id": "view-in-github",
        "colab_type": "text"
      },
      "source": [
        "<a href=\"https://colab.research.google.com/github/FranItu/CODOJOTRACK1/blob/main/CONFUSION_Francisco_Iturralde.ipynb\" target=\"_parent\"><img src=\"https://colab.research.google.com/assets/colab-badge.svg\" alt=\"Open In Colab\"/></a>"
      ]
    },
    {
      "cell_type": "markdown",
      "source": [
        "\n",
        "CONFUSION"
      ],
      "metadata": {
        "id": "Lz7EoAud5xSq"
      }
    },
    {
      "cell_type": "code",
      "source": [
        "import pandas as pd\n",
        "import numpy as np\n",
        "import matplotlib.pyplot as plt"
      ],
      "metadata": {
        "id": "q_8bVVp65w_Z"
      },
      "execution_count": 4,
      "outputs": []
    },
    {
      "cell_type": "code",
      "source": [
        "#Datos\n",
        "Pred1 = [\"Predicted 0\", \"Predicted 1\"]\n",
        "Act = ['Actually 0', 'Actually 1']\n",
        "arr = np.array([[87,16],\n",
        "               [17,59]])\n",
        "arr"
      ],
      "metadata": {
        "colab": {
          "base_uri": "https://localhost:8080/"
        },
        "id": "-289DypEX-Hf",
        "outputId": "4802fe1d-7d4b-4d6d-952c-0856a421e681"
      },
      "execution_count": 18,
      "outputs": [
        {
          "output_type": "execute_result",
          "data": {
            "text/plain": [
              "array([[87, 16],\n",
              "       [17, 59]])"
            ]
          },
          "metadata": {},
          "execution_count": 18
        }
      ]
    },
    {
      "cell_type": "code",
      "source": [
        "#Plot\n",
        "fig, ax = plt.subplots()\n",
        "im = ax.imshow(arr, cmap = 'Blues')\n",
        "\n",
        "for i in range(len(Pred1)):\n",
        "    for j in range(len(Act)):\n",
        "        text = ax.text(j, i, arr[i, j],\n",
        "                       ha=\"center\", va=\"center\", color=\"Black\")\n",
        "\n",
        "ax.set_yticks(np.arange(len(Act)))\n",
        "ax.set_xticks(np.arange(len(Pred1)))\n",
        "ax.set_xlabel('Predicted')\n",
        "ax.set_ylabel('Actually')\n",
        "\n",
        "ax.set_title(\"Matriz de Confusion\")\n",
        "fig.tight_layout()\n",
        "plt.show()"
      ],
      "metadata": {
        "colab": {
          "base_uri": "https://localhost:8080/",
          "height": 297
        },
        "id": "rXnBvy14Y0fG",
        "outputId": "fecc057a-f060-42be-e0d6-7b9914dc225c"
      },
      "execution_count": 27,
      "outputs": [
        {
          "output_type": "display_data",
          "data": {
            "image/png": "[encoded data removed]",
            "text/plain": [
              "<Figure size 432x288 with 1 Axes>"
            ]
          },
          "metadata": {
            "needs_background": "light"
          }
        }
      ]
    }
  ]
}
